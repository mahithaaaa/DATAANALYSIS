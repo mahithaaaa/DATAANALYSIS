{
  "nbformat": 4,
  "nbformat_minor": 0,
  "metadata": {
    "colab": {
      "provenance": []
    },
    "kernelspec": {
      "name": "python3",
      "display_name": "Python 3"
    },
    "language_info": {
      "name": "python"
    }
  },
  "cells": [
    {
      "cell_type": "code",
      "execution_count": null,
      "metadata": {
        "id": "JVSo8QZiUwpy"
      },
      "outputs": [],
      "source": [
        "import tensorflow as tf\n",
        "from tensorflow import keras\n",
        "from tensorflow.keras import layers\n",
        "from tensorflow.keras.preprocessing.image import ImageDataGenerator\n",
        "IMG=224\n",
        "BATCH=32\n"
      ]
    },
    {
      "cell_type": "code",
      "source": [
        "train=ImageDataGenerator(rescale=1./225,validation_split=0.2)\n",
        "train_generator=train.flow_from_directory('/content/drive/MyDrive/dataset/mango/train ',target_size=(IMG,IMG),\n",
        "                                          batch_size=BATCH,class_mode='categorical',subset='training')\n",
        "val_generator=train.flow_from_directory('/content/drive/MyDrive/dataset/mango/train ',target_size=(IMG,IMG),\n",
        "                                          batch_size=BATCH,class_mode='categorical',subset='validation')\n",
        "test_datagen=ImageDataGenerator(rescale=1./255)\n",
        "test_generator=test_datagen.flow_from_directory('/content/drive/MyDrive/dataset/mango/train ',target_size=(IMG,IMG),\n",
        "                                          batch_size=BATCH,class_mode='categorical')"
      ],
      "metadata": {
        "colab": {
          "base_uri": "https://localhost:8080/"
        },
        "id": "MbiL5jQMU2WN",
        "outputId": "b43d0c87-b16a-4fea-9302-7738a8568694"
      },
      "execution_count": null,
      "outputs": [
        {
          "output_type": "stream",
          "name": "stdout",
          "text": [
            "Found 24 images belonging to 3 classes.\n",
            "Found 6 images belonging to 3 classes.\n",
            "Found 30 images belonging to 3 classes.\n"
          ]
        }
      ]
    },
    {
      "cell_type": "code",
      "source": [
        "model=keras.Sequential([layers.Conv2D(32,(3,3),activation='relu',input_shape=(IMG,IMG,3)),\n",
        "  layers.MaxPooling2D((2,2)),layers.Conv2D(64,(3,3),activation='relu'), layers.MaxPooling2D((2,2)),layers.Conv2D(128,(3,3),activation='relu'),\n",
        "                         layers.MaxPooling2D((2,2)),layers.Flatten(),layers.Dense(128,activation='relu'),\n",
        "                        layers.Dense(3,activation='softmax')])\n"
      ],
      "metadata": {
        "id": "DnqYjSjaYNUi"
      },
      "execution_count": null,
      "outputs": []
    },
    {
      "cell_type": "code",
      "source": [
        "model.compile(optimizer='adam',loss='categorical_crossentropy',metrics=['accuracy'])"
      ],
      "metadata": {
        "id": "GXZtRVYvaxac"
      },
      "execution_count": null,
      "outputs": []
    },
    {
      "cell_type": "code",
      "source": [
        "history=model.fit(train_generator,epochs=10,validation_data=test_generator)"
      ],
      "metadata": {
        "colab": {
          "base_uri": "https://localhost:8080/"
        },
        "id": "OmCPyEILYU3b",
        "outputId": "28d49f3b-e7ac-460b-d3f8-2241ddf1d7ca"
      },
      "execution_count": null,
      "outputs": [
        {
          "output_type": "stream",
          "name": "stdout",
          "text": [
            "Epoch 1/10\n",
            "1/1 [==============================] - 8s 8s/step - loss: 1.0956 - accuracy: 0.3333 - val_loss: 2.5174 - val_accuracy: 0.3333\n",
            "Epoch 2/10\n",
            "1/1 [==============================] - 6s 6s/step - loss: 2.9110 - accuracy: 0.3333 - val_loss: 2.3593 - val_accuracy: 0.5000\n",
            "Epoch 3/10\n",
            "1/1 [==============================] - 6s 6s/step - loss: 2.5914 - accuracy: 0.5000 - val_loss: 2.4664 - val_accuracy: 0.3333\n",
            "Epoch 4/10\n",
            "1/1 [==============================] - 7s 7s/step - loss: 2.7508 - accuracy: 0.3333 - val_loss: 1.1220 - val_accuracy: 0.4333\n",
            "Epoch 5/10\n",
            "1/1 [==============================] - 6s 6s/step - loss: 1.1479 - accuracy: 0.4583 - val_loss: 0.7916 - val_accuracy: 0.6667\n",
            "Epoch 6/10\n",
            "1/1 [==============================] - 6s 6s/step - loss: 0.7363 - accuracy: 0.6667 - val_loss: 0.7511 - val_accuracy: 0.7000\n",
            "Epoch 7/10\n",
            "1/1 [==============================] - 7s 7s/step - loss: 0.6934 - accuracy: 0.7083 - val_loss: 0.6061 - val_accuracy: 1.0000\n",
            "Epoch 8/10\n",
            "1/1 [==============================] - 5s 5s/step - loss: 0.5275 - accuracy: 1.0000 - val_loss: 0.4912 - val_accuracy: 0.9333\n",
            "Epoch 9/10\n",
            "1/1 [==============================] - 6s 6s/step - loss: 0.4010 - accuracy: 0.9583 - val_loss: 0.2924 - val_accuracy: 1.0000\n",
            "Epoch 10/10\n",
            "1/1 [==============================] - 6s 6s/step - loss: 0.2108 - accuracy: 1.0000 - val_loss: 0.1772 - val_accuracy: 1.0000\n"
          ]
        }
      ]
    },
    {
      "cell_type": "code",
      "source": [
        "model.save(\"Mango.h5\",\"label.txt\")"
      ],
      "metadata": {
        "id": "q4Wa7ieUYu0W",
        "outputId": "d067c793-d039-4491-f68e-19c4b561a4cf",
        "colab": {
          "base_uri": "https://localhost:8080/"
        }
      },
      "execution_count": null,
      "outputs": [
        {
          "output_type": "stream",
          "name": "stderr",
          "text": [
            "/usr/local/lib/python3.10/dist-packages/keras/src/engine/training.py:3103: UserWarning: You are saving your model as an HDF5 file via `model.save()`. This file format is considered legacy. We recommend using instead the native Keras format, e.g. `model.save('my_model.keras')`.\n",
            "  saving_api.save_model(\n"
          ]
        }
      ]
    },
    {
      "cell_type": "code",
      "source": [
        "from tensorflow.keras.models import load_model\n",
        "from tensorflow.keras.preprocessing import image\n",
        "import numpy as np\n",
        "\n",
        "model = load_model('/content/Mango.h5')\n",
        "\n",
        "# Function to make predictions on a single image\n",
        "def predict_image(image_path):\n",
        "    img = image.load_img(image_path, target_size=(IMG, IMG))\n",
        "    img_array = image.img_to_array(img)\n",
        "    img_array = np.expand_dims(img_array, axis=0)  # Expand dimensions to match batch size\n",
        "    img_array /= 255.0  # Rescale pixel values\n",
        "\n",
        "    prediction = model.predict(img_array)\n",
        "    predicted_class_index = np.argmax(prediction, axis=1)[0]  # Get the index of the class with the highest probability\n",
        "    class_labels = train_generator.class_indices\n",
        "    class_labels = {v: k for k, v in class_labels.items()}  # Invert the class indices dictionary\n",
        "    predicted_class = class_labels[predicted_class_index]\n",
        "\n",
        "\n",
        "    return predicted_class\n",
        "\n",
        "# Path to the image you want to predict\n",
        "image_path = '/content/drive/MyDrive/dataset/mango/train /not a mango/o2.jpg'  # Update with the path to your image\n",
        "\n",
        "# Make prediction\n",
        "predicted_class = predict_image(image_path)\n",
        "print(f\"Predicted class: {predicted_class}\")\n",
        "\n"
      ],
      "metadata": {
        "id": "95G-oEwghI-r"
      },
      "execution_count": null,
      "outputs": []
    },
    {
      "cell_type": "code",
      "source": [
        "from tensorflow.keras.models import load_model\n",
        "from tensorflow.keras.preprocessing import image\n",
        "import numpy as np\n",
        "model=load_model('/content/Mango.h5')\n",
        "test_image_path='/content/drive/MyDrive/dataset/mango/train /raw/8.jpg'\n",
        "img=image.load_img(test_image_path,target_size=(224,224))\n",
        "img_array=image.img_to_array(img)\n",
        "img_array=np.expand_dims(img_array,axis=0)\n",
        "img_array/=255\n",
        "prediction=model.predict(img_array)\n",
        "if prediction > 0.5:\n",
        "  print(\"Prediction:raw mango(Probability:\",prediction[0][0],\")\")\n",
        "elif prediction <0.75 :\n",
        "   print(\"ripen(Probability:\",prediction[0][0],\")\")\n",
        "else:\n",
        "  print(\"object(Probability:\",prediction[0][0],\")\")"
      ],
      "metadata": {
        "colab": {
          "base_uri": "https://localhost:8080/"
        },
        "id": "Qvf8kEGEU3yH",
        "outputId": "2581ff5a-bcdd-4327-b462-6eaf8973ce7f"
      },
      "execution_count": null,
      "outputs": [
        {
          "output_type": "stream",
          "name": "stdout",
          "text": [
            "Mounted at /content/drive\n"
          ]
        }
      ]
    }
  ]
}