{
  "nbformat": 4,
  "nbformat_minor": 0,
  "metadata": {
    "colab": {
      "provenance": []
    },
    "kernelspec": {
      "name": "python3",
      "display_name": "Python 3"
    },
    "language_info": {
      "name": "python"
    }
  },
  "cells": [
    {
      "cell_type": "code",
      "execution_count": null,
      "metadata": {
        "id": "JVSo8QZiUwpy"
      },
      "outputs": [],
      "source": [
        "import tensorflow as tf\n",
        "from tensorflow import keras\n",
        "from tensorflow.keras import layers\n",
        "from tensorflow.keras.preprocessing.image import ImageDataGenerator\n",
        "IMG=224\n",
        "BATCH=32\n"
      ]
    },
    {
      "cell_type": "code",
      "source": [
        "train=ImageDataGenerator(rescale=1./225,validation_split=0.2)\n",
        "train_generator=train.flow_from_directory('/content/drive/MyDrive/multi',target_size=(IMG,IMG),\n",
        "                                          batch_size=BATCH,class_mode='categorical',subset='training')\n",
        "val_generator=train.flow_from_directory('/content/drive/MyDrive/multi',target_size=(IMG,IMG),\n",
        "                                          batch_size=BATCH,class_mode='categorical',subset='validation')\n",
        "test_datagen=ImageDataGenerator(rescale=1./255)\n",
        "test_generator=test_datagen.flow_from_directory('/content/drive/MyDrive/multi',target_size=(IMG,IMG),\n",
        "                                          batch_size=BATCH,class_mode='categorical')"
      ],
      "metadata": {
        "id": "MbiL5jQMU2WN"
      },
      "execution_count": null,
      "outputs": []
    },
    {
      "cell_type": "code",
      "source": [
        "model=keras.Sequential([layers.Conv2D(32,(3,3),activation='relu',input_shape=(IMG,IMG,3)),\n",
        "  layers.MaxPooling2D((2,2)),layers.Conv2D(64,(3,3),activation='relu'), layers.MaxPooling2D((2,2)),layers.Conv2D(128,(3,3),activation='relu'),\n",
        "                         layers.MaxPooling2D((2,2)),layers.Flatten(),layers.Dense(128,activation='relu'),\n",
        "                        layers.Dense(3,activation='softmax')])\n"
      ],
      "metadata": {
        "id": "DnqYjSjaYNUi"
      },
      "execution_count": null,
      "outputs": []
    },
    {
      "cell_type": "code",
      "source": [
        "model.compile(optimizer='adam',loss='categorical_crossentropy',metrics=['accuracy'])"
      ],
      "metadata": {
        "id": "GXZtRVYvaxac"
      },
      "execution_count": null,
      "outputs": []
    },
    {
      "cell_type": "code",
      "source": [
        "history=model.fit(train_generator,epochs=10,validation_data=test_generator)"
      ],
      "metadata": {
        "id": "OmCPyEILYU3b"
      },
      "execution_count": null,
      "outputs": []
    },
    {
      "cell_type": "code",
      "source": [
        "model.save(\"fruit1.h5\",\"label.txt\")"
      ],
      "metadata": {
        "id": "q4Wa7ieUYu0W"
      },
      "execution_count": null,
      "outputs": []
    },
    {
      "cell_type": "code",
      "source": [
        "from tensorflow.keras.models import load_model\n",
        "from tensorflow.keras.preprocessing import image\n",
        "import numpy as np\n",
        "import matplotlib.pyplot as plt\n",
        "model=load_model('/content/fruit1.h5')\n",
        "test_image_path='/content/drive/MyDrive/multi/banana fruit/Image_34.jpg'\n",
        "img=image.load_img(test_image_path,target_size=(224,224))\n",
        "img_array=image.img_to_array(img)\n",
        "img_array=np.expand_dims(img_array,axis=0)\n",
        "img_array /=255.\n",
        "plt.imshow(img)\n",
        "classes = [\"banana\",\"grapes\",\"strawberry\"]\n",
        "prediction=model.predict(img_array)\n",
        "predicted_class_index = np.argmax(prediction[0])\n",
        "print(\"predicted_class \",classes[predicted_class_index])"
      ],
      "metadata": {
        "id": "HoJU5StTjkXv"
      },
      "execution_count": null,
      "outputs": []
    }
  ]
}