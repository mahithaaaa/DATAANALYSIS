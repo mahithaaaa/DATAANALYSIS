{
  "nbformat": 4,
  "nbformat_minor": 0,
  "metadata": {
    "colab": {
      "provenance": []
    },
    "kernelspec": {
      "name": "python3",
      "display_name": "Python 3"
    },
    "language_info": {
      "name": "python"
    }
  },
  "cells": [
    {
      "cell_type": "code",
      "execution_count": 4,
      "metadata": {
        "id": "k6zschzY1uiL"
      },
      "outputs": [],
      "source": [
        "import tensorflow as tf\n",
        "from tensorflow import keras\n",
        "from tensorflow.keras import layers\n",
        "from tensorflow.keras.preprocessing.image import ImageDataGenerator\n",
        "IMG=224\n",
        "BATCH=32\n"
      ]
    },
    {
      "cell_type": "code",
      "source": [
        "train=ImageDataGenerator(rescale=1./225,validation_split=0.2)\n",
        "train_generator=train.flow_from_directory('/content/drive/MyDrive/DAP/Brain_Tumor_Detection/train',target_size=(IMG,IMG),\n",
        "                                          batch_size=BATCH,class_mode='binary',subset='training')\n",
        "val_generator=train.flow_from_directory('/content/drive/MyDrive/DAP/Brain_Tumor_Detection/train',target_size=(IMG,IMG),\n",
        "                                          batch_size=BATCH,class_mode='binary',subset='validation')\n",
        "test_datagen=ImageDataGenerator(rescale=1./255)\n",
        "test_generator=test_datagen.flow_from_directory('/content/drive/MyDrive/DAP/Brain_Tumor_Detection/train',target_size=(IMG,IMG),\n",
        "                                          batch_size=BATCH,class_mode='binary')"
      ],
      "metadata": {
        "colab": {
          "base_uri": "https://localhost:8080/"
        },
        "id": "4gerQFix3KVk",
        "outputId": "114888b9-5a5f-40b6-b14e-5a4c2f27e2e0"
      },
      "execution_count": 5,
      "outputs": [
        {
          "output_type": "stream",
          "name": "stdout",
          "text": [
            "Found 2414 images belonging to 2 classes.\n",
            "Found 603 images belonging to 2 classes.\n",
            "Found 3017 images belonging to 2 classes.\n"
          ]
        }
      ]
    },
    {
      "cell_type": "code",
      "source": [
        "model=keras.Sequential([layers.Conv2D(32,(3,3),activation='relu',input_shape=(IMG,IMG,3)),\n",
        "  layers.MaxPooling2D((2,2)),layers.Conv2D(64,(3,3),activation='relu'), layers.MaxPooling2D((2,2)),layers.Conv2D(128,(3,3),activation='relu'),\n",
        "                         layers.MaxPooling2D((2,2)),layers.Flatten(),layers.Dense(128,activation='relu'),\n",
        "                        layers.Dense(1,activation='sigmoid')])\n",
        "\n"
      ],
      "metadata": {
        "id": "vGHcmqtO9JoW"
      },
      "execution_count": 6,
      "outputs": []
    },
    {
      "cell_type": "code",
      "source": [
        "model.compile(optimizer='adam',loss='binary_crossentropy',metrics=['accuracy'])"
      ],
      "metadata": {
        "id": "LRR4q3x6_Hji"
      },
      "execution_count": 7,
      "outputs": []
    },
    {
      "cell_type": "code",
      "source": [
        "history=model.fit(train_generator,validation_data=val_generator,epochs=5)"
      ],
      "metadata": {
        "id": "qfUevw9YApaM"
      },
      "execution_count": null,
      "outputs": []
    },
    {
      "cell_type": "code",
      "source": [
        "model.save(\"Model3.h5\",\"label.txt\")"
      ],
      "metadata": {
        "id": "-ICHq9A3GrOX",
        "colab": {
          "base_uri": "https://localhost:8080/"
        },
        "outputId": "aba889be-7038-47db-e411-fc679ec11760"
      },
      "execution_count": 8,
      "outputs": [
        {
          "output_type": "stream",
          "name": "stderr",
          "text": [
            "/usr/local/lib/python3.10/dist-packages/keras/src/engine/training.py:3103: UserWarning: You are saving your model as an HDF5 file via `model.save()`. This file format is considered legacy. We recommend using instead the native Keras format, e.g. `model.save('my_model.keras')`.\n",
            "  saving_api.save_model(\n"
          ]
        }
      ]
    },
    {
      "cell_type": "code",
      "source": [
        "from tensorflow.keras.models import load_model\n",
        "from tensorflow.keras.preprocessing import image\n",
        "import numpy as np\n",
        "model=load_model('/content/Model3.h5')\n",
        "test_image_path='/content/drive/MyDrive/DAP/Brain_Tumor_Detection/train/yes/y1011.jpg'\n",
        "img=image.load_img(test_image_path,target_size=(224,224))\n",
        "img_array=image.img_to_array(img)\n",
        "img_array=np.expand_dims(img_array,axis=0)\n",
        "img_array/=255\n",
        "prediction=model.predict(img_array)\n",
        "if prediction < 0.5:\n",
        "  print(\"Prediction:No tumor(Probability:\",prediction[0][0],\")\")\n",
        "else :\n",
        "   print(\"Prediction:Tumor present (Probability:\",prediction[0][0],\")\")\n"
      ],
      "metadata": {
        "colab": {
          "base_uri": "https://localhost:8080/"
        },
        "id": "lQAk1sgjG7vf",
        "outputId": "a8c57b89-38b8-40f7-ed93-af846c4cd1e2"
      },
      "execution_count": 20,
      "outputs": [
        {
          "output_type": "stream",
          "name": "stdout",
          "text": [
            "1/1 [==============================] - 0s 135ms/step\n",
            "Prediction:Tumor present (Probability: 0.5242492 )\n"
          ]
        }
      ]
    }
  ]
}